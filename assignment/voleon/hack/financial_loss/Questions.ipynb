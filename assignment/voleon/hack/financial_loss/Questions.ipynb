{
 "cells": [
  {
   "cell_type": "markdown",
   "metadata": {
    "colab_type": "text",
    "id": "x_BkOtqBIKQz"
   },
   "source": [
    "# Data Science Challenge"
   ]
  },
  {
   "cell_type": "code",
   "execution_count": 1,
   "metadata": {
    "colab": {},
    "colab_type": "code",
    "id": "U_VthdACIKQ6"
   },
   "outputs": [],
   "source": [
    "# If you'd like to install packages that are not installed by default, uncomment the last two lines of this cell and replace <package list> with a list of your packages.\n",
    "# This will ensure your notebook has all the dependencies and works everywhere\n",
    "\n",
    "#import sys\n",
    "#!{sys.executable} -m pip install <package list>"
   ]
  },
  {
   "cell_type": "code",
   "execution_count": 2,
   "metadata": {
    "colab": {},
    "colab_type": "code",
    "id": "VzGFUCCVIKRL"
   },
   "outputs": [],
   "source": [
    "#Libraries\n",
    "import pandas as pd\n",
    "pd.set_option(\"display.max_columns\", 101)"
   ]
  },
  {
   "cell_type": "markdown",
   "metadata": {
    "colab_type": "text",
    "id": "TZ23KNY8IKRT"
   },
   "source": [
    "## Data Description"
   ]
  },
  {
   "cell_type": "markdown",
   "metadata": {
    "colab_type": "text",
    "id": "jWSkqquEIKRW"
   },
   "source": [
    "Column | Description\n",
    ":---|:---\n",
    "`id` | Unique identifier of a bank\n",
    "`institution_name` | Name of the bank\n",
    "`institution_type` | Type of bank with respect to its operation (savings bank, savings association or commercial bank)\n",
    "`charter_type` | Type of bank defined with respect to its area of operation (STATE, FEDERAL, STATE/FEDERAL)\n",
    "`headquarters` | Location of the bank's headquarters in the US (City, State)\n",
    "`latitude` | Latitude of the bank's State\n",
    "`longitude` | Longitude of the bank's State\n",
    "`failure_date` | Date on which the bank was officially declared as a failure\n",
    "`insurance_provider` | Insurance provider to the bank depositors (FDIC, FSLIC, RTC, BIF, SAIF, DIF)\n",
    "`failure_outcome` | Bailout plan for the bank after failure (PAYOUT, ACQUISITION, PRIVATIZATION, TRANSFER, MANAGEMENT CHANGE)\n",
    "`total_deposits` | Total deposits in the bank at the time of failure (in thousands of dollars)\n",
    "`total_assets` | Total assets in the bank at the time of failure (in thousands of dollars)\n",
    "`liquidity` | Percentage of total available liquid assets at the time of failure\n",
    "`estimated_loss` | Net Expected Loss (in thousands $)"
   ]
  },
  {
   "cell_type": "markdown",
   "metadata": {
    "colab_type": "text",
    "id": "BWQqx7cSIKRX"
   },
   "source": [
    "## Data Wrangling & Visualization"
   ]
  },
  {
   "cell_type": "code",
   "execution_count": 3,
   "metadata": {
    "colab": {},
    "colab_type": "code",
    "id": "SsjL7tf7IKRc"
   },
   "outputs": [],
   "source": [
    "# Dataset is already loaded below\n",
    "data = pd.read_csv(\"train.csv\")"
   ]
  },
  {
   "cell_type": "code",
   "execution_count": 4,
   "metadata": {
    "colab": {},
    "colab_type": "code",
    "id": "kzuHtZEkIKRh",
    "outputId": "9d14832c-2eda-48eb-df41-548113a94a73"
   },
   "outputs": [
    {
     "data": {
      "text/html": [
       "<div>\n",
       "<style scoped>\n",
       "    .dataframe tbody tr th:only-of-type {\n",
       "        vertical-align: middle;\n",
       "    }\n",
       "\n",
       "    .dataframe tbody tr th {\n",
       "        vertical-align: top;\n",
       "    }\n",
       "\n",
       "    .dataframe thead th {\n",
       "        text-align: right;\n",
       "    }\n",
       "</style>\n",
       "<table border=\"1\" class=\"dataframe\">\n",
       "  <thead>\n",
       "    <tr style=\"text-align: right;\">\n",
       "      <th></th>\n",
       "      <th>id</th>\n",
       "      <th>institution_name</th>\n",
       "      <th>institution_type</th>\n",
       "      <th>charter_type</th>\n",
       "      <th>headquarters</th>\n",
       "      <th>latitude</th>\n",
       "      <th>longitude</th>\n",
       "      <th>failure_date</th>\n",
       "      <th>insurance_provider</th>\n",
       "      <th>failure_outcome</th>\n",
       "      <th>total_deposits</th>\n",
       "      <th>total_assets</th>\n",
       "      <th>liquidity</th>\n",
       "      <th>estimated_loss</th>\n",
       "    </tr>\n",
       "  </thead>\n",
       "  <tbody>\n",
       "    <tr>\n",
       "      <th>0</th>\n",
       "      <td>1</td>\n",
       "      <td>DELTA SECURITY BANK AND TRUST COMPANY</td>\n",
       "      <td>COMMERCIAL BANK</td>\n",
       "      <td>STATE</td>\n",
       "      <td>FERRIDAY, LA</td>\n",
       "      <td>31.630166</td>\n",
       "      <td>-91.554565</td>\n",
       "      <td>1973-01-19</td>\n",
       "      <td>FDIC</td>\n",
       "      <td>PAYOUT</td>\n",
       "      <td>0.8079</td>\n",
       "      <td>0.9780</td>\n",
       "      <td>0.826074</td>\n",
       "      <td>0.269135</td>\n",
       "    </tr>\n",
       "    <tr>\n",
       "      <th>1</th>\n",
       "      <td>2</td>\n",
       "      <td>BANK OF STURGIS</td>\n",
       "      <td>COMMERCIAL BANK</td>\n",
       "      <td>STATE</td>\n",
       "      <td>STURGIS, KY</td>\n",
       "      <td>37.546714</td>\n",
       "      <td>-87.983914</td>\n",
       "      <td>1937-07-03</td>\n",
       "      <td>FDIC</td>\n",
       "      <td>PAYOUT</td>\n",
       "      <td>0.0213</td>\n",
       "      <td>0.0246</td>\n",
       "      <td>0.865854</td>\n",
       "      <td>0.078526</td>\n",
       "    </tr>\n",
       "    <tr>\n",
       "      <th>2</th>\n",
       "      <td>3</td>\n",
       "      <td>OCONTO COUNTY STATE BANK</td>\n",
       "      <td>COMMERCIAL BANK</td>\n",
       "      <td>STATE</td>\n",
       "      <td>OCONTO FALLS, WI</td>\n",
       "      <td>44.873880</td>\n",
       "      <td>-88.142880</td>\n",
       "      <td>1939-01-04</td>\n",
       "      <td>FDIC</td>\n",
       "      <td>PAYOUT</td>\n",
       "      <td>0.0346</td>\n",
       "      <td>0.0386</td>\n",
       "      <td>0.896373</td>\n",
       "      <td>0.065794</td>\n",
       "    </tr>\n",
       "    <tr>\n",
       "      <th>3</th>\n",
       "      <td>4</td>\n",
       "      <td>THE FIRST NAT BK &amp; TR CO. OF OKLAHOMA</td>\n",
       "      <td>COMMERCIAL BANK</td>\n",
       "      <td>FEDERAL</td>\n",
       "      <td>OKLAHOMA CITY, OK</td>\n",
       "      <td>35.472989</td>\n",
       "      <td>-97.517054</td>\n",
       "      <td>1986-07-14</td>\n",
       "      <td>FDIC</td>\n",
       "      <td>ACQUISITION</td>\n",
       "      <td>130.1346</td>\n",
       "      <td>175.4157</td>\n",
       "      <td>0.741864</td>\n",
       "      <td>22.072100</td>\n",
       "    </tr>\n",
       "    <tr>\n",
       "      <th>4</th>\n",
       "      <td>5</td>\n",
       "      <td>THE BANK OF BRONSON</td>\n",
       "      <td>COMMERCIAL BANK</td>\n",
       "      <td>STATE</td>\n",
       "      <td>BRONSON, KS</td>\n",
       "      <td>37.895871</td>\n",
       "      <td>-95.073308</td>\n",
       "      <td>1985-08-23</td>\n",
       "      <td>FDIC</td>\n",
       "      <td>PAYOUT</td>\n",
       "      <td>0.9294</td>\n",
       "      <td>0.9604</td>\n",
       "      <td>0.967722</td>\n",
       "      <td>0.244277</td>\n",
       "    </tr>\n",
       "  </tbody>\n",
       "</table>\n",
       "</div>"
      ],
      "text/plain": [
       "   id                       institution_name institution_type charter_type  \\\n",
       "0   1  DELTA SECURITY BANK AND TRUST COMPANY  COMMERCIAL BANK        STATE   \n",
       "1   2                        BANK OF STURGIS  COMMERCIAL BANK        STATE   \n",
       "2   3               OCONTO COUNTY STATE BANK  COMMERCIAL BANK        STATE   \n",
       "3   4  THE FIRST NAT BK & TR CO. OF OKLAHOMA  COMMERCIAL BANK      FEDERAL   \n",
       "4   5                    THE BANK OF BRONSON  COMMERCIAL BANK        STATE   \n",
       "\n",
       "        headquarters   latitude  longitude failure_date insurance_provider  \\\n",
       "0       FERRIDAY, LA  31.630166 -91.554565   1973-01-19               FDIC   \n",
       "1        STURGIS, KY  37.546714 -87.983914   1937-07-03               FDIC   \n",
       "2   OCONTO FALLS, WI  44.873880 -88.142880   1939-01-04               FDIC   \n",
       "3  OKLAHOMA CITY, OK  35.472989 -97.517054   1986-07-14               FDIC   \n",
       "4        BRONSON, KS  37.895871 -95.073308   1985-08-23               FDIC   \n",
       "\n",
       "  failure_outcome  total_deposits  total_assets  liquidity  estimated_loss  \n",
       "0          PAYOUT          0.8079        0.9780   0.826074        0.269135  \n",
       "1          PAYOUT          0.0213        0.0246   0.865854        0.078526  \n",
       "2          PAYOUT          0.0346        0.0386   0.896373        0.065794  \n",
       "3     ACQUISITION        130.1346      175.4157   0.741864       22.072100  \n",
       "4          PAYOUT          0.9294        0.9604   0.967722        0.244277  "
      ]
     },
     "execution_count": 4,
     "metadata": {},
     "output_type": "execute_result"
    }
   ],
   "source": [
    "data.head()"
   ]
  },
  {
   "cell_type": "code",
   "execution_count": 5,
   "metadata": {
    "colab": {},
    "colab_type": "code",
    "id": "0mhMZRlBIKRu",
    "outputId": "0a669059-5528-4ec0-d64b-8231f6aadf45"
   },
   "outputs": [
    {
     "data": {
      "text/plain": [
       "Index(['id', 'institution_name', 'institution_type', 'charter_type',\n",
       "       'headquarters', 'latitude', 'longitude', 'failure_date',\n",
       "       'insurance_provider', 'failure_outcome', 'total_deposits',\n",
       "       'total_assets', 'liquidity', 'estimated_loss'],\n",
       "      dtype='object')"
      ]
     },
     "execution_count": 5,
     "metadata": {},
     "output_type": "execute_result"
    }
   ],
   "source": [
    "#Explore columns\n",
    "data.columns"
   ]
  },
  {
   "cell_type": "code",
   "execution_count": 6,
   "metadata": {
    "colab": {},
    "colab_type": "code",
    "id": "-SrTmyfJIKR1",
    "outputId": "12b270ca-8c3f-402b-d6c1-286c17e63fdd"
   },
   "outputs": [
    {
     "data": {
      "text/html": [
       "<div>\n",
       "<style scoped>\n",
       "    .dataframe tbody tr th:only-of-type {\n",
       "        vertical-align: middle;\n",
       "    }\n",
       "\n",
       "    .dataframe tbody tr th {\n",
       "        vertical-align: top;\n",
       "    }\n",
       "\n",
       "    .dataframe thead th {\n",
       "        text-align: right;\n",
       "    }\n",
       "</style>\n",
       "<table border=\"1\" class=\"dataframe\">\n",
       "  <thead>\n",
       "    <tr style=\"text-align: right;\">\n",
       "      <th></th>\n",
       "      <th>id</th>\n",
       "      <th>latitude</th>\n",
       "      <th>longitude</th>\n",
       "      <th>total_deposits</th>\n",
       "      <th>total_assets</th>\n",
       "      <th>liquidity</th>\n",
       "      <th>estimated_loss</th>\n",
       "    </tr>\n",
       "  </thead>\n",
       "  <tbody>\n",
       "    <tr>\n",
       "      <th>count</th>\n",
       "      <td>2660.000000</td>\n",
       "      <td>2660.000000</td>\n",
       "      <td>2660.000000</td>\n",
       "      <td>2427.000000</td>\n",
       "      <td>2504.000000</td>\n",
       "      <td>2545.000000</td>\n",
       "      <td>2660.000000</td>\n",
       "    </tr>\n",
       "    <tr>\n",
       "      <th>mean</th>\n",
       "      <td>1330.500000</td>\n",
       "      <td>36.576786</td>\n",
       "      <td>-93.239347</td>\n",
       "      <td>26.777879</td>\n",
       "      <td>31.211454</td>\n",
       "      <td>0.947292</td>\n",
       "      <td>6.075820</td>\n",
       "    </tr>\n",
       "    <tr>\n",
       "      <th>std</th>\n",
       "      <td>768.020182</td>\n",
       "      <td>6.290209</td>\n",
       "      <td>15.121618</td>\n",
       "      <td>97.852740</td>\n",
       "      <td>116.580617</td>\n",
       "      <td>0.227383</td>\n",
       "      <td>31.702348</td>\n",
       "    </tr>\n",
       "    <tr>\n",
       "      <th>min</th>\n",
       "      <td>1.000000</td>\n",
       "      <td>-32.884180</td>\n",
       "      <td>-157.855676</td>\n",
       "      <td>0.000000</td>\n",
       "      <td>0.001400</td>\n",
       "      <td>0.000000</td>\n",
       "      <td>0.000000</td>\n",
       "    </tr>\n",
       "    <tr>\n",
       "      <th>25%</th>\n",
       "      <td>665.750000</td>\n",
       "      <td>32.425746</td>\n",
       "      <td>-98.493387</td>\n",
       "      <td>1.462850</td>\n",
       "      <td>1.492775</td>\n",
       "      <td>0.883170</td>\n",
       "      <td>0.221100</td>\n",
       "    </tr>\n",
       "    <tr>\n",
       "      <th>50%</th>\n",
       "      <td>1330.500000</td>\n",
       "      <td>35.960395</td>\n",
       "      <td>-94.740490</td>\n",
       "      <td>4.697300</td>\n",
       "      <td>4.724150</td>\n",
       "      <td>0.950415</td>\n",
       "      <td>0.862350</td>\n",
       "    </tr>\n",
       "    <tr>\n",
       "      <th>75%</th>\n",
       "      <td>1995.250000</td>\n",
       "      <td>40.853905</td>\n",
       "      <td>-84.839522</td>\n",
       "      <td>16.911300</td>\n",
       "      <td>17.517100</td>\n",
       "      <td>0.996296</td>\n",
       "      <td>3.462375</td>\n",
       "    </tr>\n",
       "    <tr>\n",
       "      <th>max</th>\n",
       "      <td>2660.000000</td>\n",
       "      <td>69.750000</td>\n",
       "      <td>136.663390</td>\n",
       "      <td>2007.209900</td>\n",
       "      <td>2545.511200</td>\n",
       "      <td>8.897978</td>\n",
       "      <td>1243.800500</td>\n",
       "    </tr>\n",
       "  </tbody>\n",
       "</table>\n",
       "</div>"
      ],
      "text/plain": [
       "                id     latitude    longitude  total_deposits  total_assets  \\\n",
       "count  2660.000000  2660.000000  2660.000000     2427.000000   2504.000000   \n",
       "mean   1330.500000    36.576786   -93.239347       26.777879     31.211454   \n",
       "std     768.020182     6.290209    15.121618       97.852740    116.580617   \n",
       "min       1.000000   -32.884180  -157.855676        0.000000      0.001400   \n",
       "25%     665.750000    32.425746   -98.493387        1.462850      1.492775   \n",
       "50%    1330.500000    35.960395   -94.740490        4.697300      4.724150   \n",
       "75%    1995.250000    40.853905   -84.839522       16.911300     17.517100   \n",
       "max    2660.000000    69.750000   136.663390     2007.209900   2545.511200   \n",
       "\n",
       "         liquidity  estimated_loss  \n",
       "count  2545.000000     2660.000000  \n",
       "mean      0.947292        6.075820  \n",
       "std       0.227383       31.702348  \n",
       "min       0.000000        0.000000  \n",
       "25%       0.883170        0.221100  \n",
       "50%       0.950415        0.862350  \n",
       "75%       0.996296        3.462375  \n",
       "max       8.897978     1243.800500  "
      ]
     },
     "execution_count": 6,
     "metadata": {},
     "output_type": "execute_result"
    }
   ],
   "source": [
    "#Description\n",
    "data.describe()"
   ]
  },
  {
   "cell_type": "code",
   "execution_count": null,
   "metadata": {
    "colab": {},
    "colab_type": "code",
    "id": "Vel-7S7gIKR9"
   },
   "outputs": [],
   "source": []
  },
  {
   "cell_type": "code",
   "execution_count": null,
   "metadata": {
    "colab": {},
    "colab_type": "code",
    "id": "fp1nvdh-IKSE"
   },
   "outputs": [],
   "source": []
  },
  {
   "cell_type": "code",
   "execution_count": null,
   "metadata": {
    "colab": {},
    "colab_type": "code",
    "id": "px5KNTQ7IKSK"
   },
   "outputs": [],
   "source": []
  },
  {
   "cell_type": "code",
   "execution_count": null,
   "metadata": {
    "colab": {},
    "colab_type": "code",
    "id": "W9B6xKGpIKSQ"
   },
   "outputs": [],
   "source": []
  },
  {
   "cell_type": "markdown",
   "metadata": {
    "colab_type": "text",
    "id": "ymsdDaIPIKSX"
   },
   "source": [
    "## Visualization, Modeling, Machine Learning\n",
    "\n",
    "Build a model that can predict whether patient opted for the procedure or not and identify how different features influence the model's decision. Please explain the findings effectively to technical and non-technical audiences using comments and visualizations, if appropriate.\n",
    "- **Build an optimized model that effectively solves the business problem.**\n",
    "- **The model will be evaluated on the basis of mean absolute percent error.**\n",
    "- **Read the test.csv file and prepare features for testing.**"
   ]
  },
  {
   "cell_type": "code",
   "execution_count": 7,
   "metadata": {
    "colab": {},
    "colab_type": "code",
    "id": "Hsxh3SMgIKSY",
    "outputId": "d98d0f00-f33f-407b-df59-a9915bb03fa1"
   },
   "outputs": [
    {
     "data": {
      "text/html": [
       "<div>\n",
       "<style scoped>\n",
       "    .dataframe tbody tr th:only-of-type {\n",
       "        vertical-align: middle;\n",
       "    }\n",
       "\n",
       "    .dataframe tbody tr th {\n",
       "        vertical-align: top;\n",
       "    }\n",
       "\n",
       "    .dataframe thead th {\n",
       "        text-align: right;\n",
       "    }\n",
       "</style>\n",
       "<table border=\"1\" class=\"dataframe\">\n",
       "  <thead>\n",
       "    <tr style=\"text-align: right;\">\n",
       "      <th></th>\n",
       "      <th>id</th>\n",
       "      <th>institution_name</th>\n",
       "      <th>institution_type</th>\n",
       "      <th>charter_type</th>\n",
       "      <th>headquarters</th>\n",
       "      <th>latitude</th>\n",
       "      <th>longitude</th>\n",
       "      <th>failure_date</th>\n",
       "      <th>insurance_provider</th>\n",
       "      <th>failure_outcome</th>\n",
       "      <th>total_deposits</th>\n",
       "      <th>total_assets</th>\n",
       "      <th>liquidity</th>\n",
       "    </tr>\n",
       "  </thead>\n",
       "  <tbody>\n",
       "    <tr>\n",
       "      <th>0</th>\n",
       "      <td>1</td>\n",
       "      <td>CENTER S &amp; LA</td>\n",
       "      <td>SAVINGS ASSOCIATION</td>\n",
       "      <td>FEDERAL/STATE</td>\n",
       "      <td>CLIFTON, NJ</td>\n",
       "      <td>40.858433</td>\n",
       "      <td>-74.163755</td>\n",
       "      <td>1991-01-25</td>\n",
       "      <td>RTC</td>\n",
       "      <td>ACQUISITION</td>\n",
       "      <td>12.5372</td>\n",
       "      <td>13.2562</td>\n",
       "      <td>0.945761</td>\n",
       "    </tr>\n",
       "    <tr>\n",
       "      <th>1</th>\n",
       "      <td>2</td>\n",
       "      <td>THE FIRST NATIONAL BANK OF ONAGA</td>\n",
       "      <td>COMMERCIAL BANK</td>\n",
       "      <td>FEDERAL</td>\n",
       "      <td>ONAGA, KS</td>\n",
       "      <td>39.488885</td>\n",
       "      <td>-96.169999</td>\n",
       "      <td>1985-07-23</td>\n",
       "      <td>FDIC</td>\n",
       "      <td>ACQUISITION</td>\n",
       "      <td>2.2259</td>\n",
       "      <td>2.2379</td>\n",
       "      <td>0.994638</td>\n",
       "    </tr>\n",
       "    <tr>\n",
       "      <th>2</th>\n",
       "      <td>3</td>\n",
       "      <td>EXPRESSWAY BANK</td>\n",
       "      <td>COMMERCIAL BANK</td>\n",
       "      <td>STATE</td>\n",
       "      <td>OKLAHOMA CITY, OK</td>\n",
       "      <td>35.472989</td>\n",
       "      <td>-97.517054</td>\n",
       "      <td>1987-03-12</td>\n",
       "      <td>FDIC</td>\n",
       "      <td>ACQUISITION</td>\n",
       "      <td>NaN</td>\n",
       "      <td>1.9089</td>\n",
       "      <td>NaN</td>\n",
       "    </tr>\n",
       "    <tr>\n",
       "      <th>3</th>\n",
       "      <td>4</td>\n",
       "      <td>TREASURE STATE BANK</td>\n",
       "      <td>COMMERCIAL BANK</td>\n",
       "      <td>STATE</td>\n",
       "      <td>GLASGOW, MT</td>\n",
       "      <td>48.195591</td>\n",
       "      <td>-106.635556</td>\n",
       "      <td>1989-06-09</td>\n",
       "      <td>FDIC</td>\n",
       "      <td>ACQUISITION</td>\n",
       "      <td>1.3150</td>\n",
       "      <td>1.4553</td>\n",
       "      <td>0.903594</td>\n",
       "    </tr>\n",
       "    <tr>\n",
       "      <th>4</th>\n",
       "      <td>5</td>\n",
       "      <td>JEFFERSON NATIONAL BANK</td>\n",
       "      <td>COMMERCIAL BANK</td>\n",
       "      <td>FEDERAL</td>\n",
       "      <td>WATERTOWN, NY</td>\n",
       "      <td>43.974784</td>\n",
       "      <td>-75.910756</td>\n",
       "      <td>1993-02-26</td>\n",
       "      <td>BIF</td>\n",
       "      <td>ACQUISITION</td>\n",
       "      <td>NaN</td>\n",
       "      <td>25.6014</td>\n",
       "      <td>0.971244</td>\n",
       "    </tr>\n",
       "  </tbody>\n",
       "</table>\n",
       "</div>"
      ],
      "text/plain": [
       "   id                  institution_name     institution_type   charter_type  \\\n",
       "0   1                     CENTER S & LA  SAVINGS ASSOCIATION  FEDERAL/STATE   \n",
       "1   2  THE FIRST NATIONAL BANK OF ONAGA      COMMERCIAL BANK        FEDERAL   \n",
       "2   3                   EXPRESSWAY BANK      COMMERCIAL BANK          STATE   \n",
       "3   4               TREASURE STATE BANK      COMMERCIAL BANK          STATE   \n",
       "4   5           JEFFERSON NATIONAL BANK      COMMERCIAL BANK        FEDERAL   \n",
       "\n",
       "        headquarters   latitude   longitude failure_date insurance_provider  \\\n",
       "0        CLIFTON, NJ  40.858433  -74.163755   1991-01-25                RTC   \n",
       "1          ONAGA, KS  39.488885  -96.169999   1985-07-23               FDIC   \n",
       "2  OKLAHOMA CITY, OK  35.472989  -97.517054   1987-03-12               FDIC   \n",
       "3        GLASGOW, MT  48.195591 -106.635556   1989-06-09               FDIC   \n",
       "4      WATERTOWN, NY  43.974784  -75.910756   1993-02-26                BIF   \n",
       "\n",
       "  failure_outcome  total_deposits  total_assets  liquidity  \n",
       "0     ACQUISITION         12.5372       13.2562   0.945761  \n",
       "1     ACQUISITION          2.2259        2.2379   0.994638  \n",
       "2     ACQUISITION             NaN        1.9089        NaN  \n",
       "3     ACQUISITION          1.3150        1.4553   0.903594  \n",
       "4     ACQUISITION             NaN       25.6014   0.971244  "
      ]
     },
     "execution_count": 7,
     "metadata": {},
     "output_type": "execute_result"
    }
   ],
   "source": [
    "#Loading Test data\n",
    "test_data=pd.read_csv('test.csv')\n",
    "test_data.head()"
   ]
  },
  {
   "cell_type": "code",
   "execution_count": null,
   "metadata": {
    "colab": {},
    "colab_type": "code",
    "id": "1XiIoLYLIKSj"
   },
   "outputs": [],
   "source": []
  },
  {
   "cell_type": "code",
   "execution_count": null,
   "metadata": {
    "colab": {},
    "colab_type": "code",
    "id": "7tBCHjd3IKSp"
   },
   "outputs": [],
   "source": []
  },
  {
   "cell_type": "code",
   "execution_count": null,
   "metadata": {
    "colab": {},
    "colab_type": "code",
    "id": "1Vk1EEy9IKSv"
   },
   "outputs": [],
   "source": []
  },
  {
   "cell_type": "code",
   "execution_count": null,
   "metadata": {
    "colab": {},
    "colab_type": "code",
    "id": "nkQU41WSIKSz"
   },
   "outputs": [],
   "source": []
  },
  {
   "cell_type": "markdown",
   "metadata": {
    "colab_type": "text",
    "id": "MK_rdXETIKS4"
   },
   "source": [
    "\n",
    "\n",
    "**The management wants to know the most important features for the model.**\n",
    "\n",
    "> #### Task:\n",
    "- **Visualize the top 20 features and their feature importance.**\n"
   ]
  },
  {
   "cell_type": "code",
   "execution_count": null,
   "metadata": {
    "colab": {},
    "colab_type": "code",
    "id": "HHFM3XPMIKS6"
   },
   "outputs": [],
   "source": []
  },
  {
   "cell_type": "code",
   "execution_count": null,
   "metadata": {
    "colab": {},
    "colab_type": "code",
    "id": "jabG4TJwIKS_"
   },
   "outputs": [],
   "source": []
  },
  {
   "cell_type": "markdown",
   "metadata": {
    "colab_type": "text",
    "id": "UFogmgYZIKTE"
   },
   "source": [
    "> #### Task:\n",
    "- **Submit the predictions on the test dataset using the optimized model** <br/>\n",
    "    For each record in the test set (`test.csv`), predict the value of the `estimated_loss` variable. Submit a CSV file with a header row and one row per test entry. \n",
    "\n",
    "The file (`submissions.csv`) should have exactly 2 columns:\n",
    "   - **id**\n",
    "   - **estimated_loss**"
   ]
  },
  {
   "cell_type": "code",
   "execution_count": 0,
   "metadata": {
    "colab": {},
    "colab_type": "code",
    "id": "7xgNg25MIKTG"
   },
   "outputs": [],
   "source": []
  },
  {
   "cell_type": "code",
   "execution_count": 0,
   "metadata": {
    "colab": {},
    "colab_type": "code",
    "id": "OaxN7BjwIKTL"
   },
   "outputs": [],
   "source": []
  },
  {
   "cell_type": "code",
   "execution_count": 0,
   "metadata": {
    "colab": {},
    "colab_type": "code",
    "id": "nBRVPrYbIKTQ"
   },
   "outputs": [],
   "source": [
    "#Submission\n",
    "submission_df.to_csv('submissions.csv',index=False)"
   ]
  },
  {
   "cell_type": "markdown",
   "metadata": {
    "colab_type": "text",
    "id": "H_pB8zTcIKTW"
   },
   "source": [
    "---"
   ]
  }
 ],
 "metadata": {
  "colab": {
   "collapsed_sections": [],
   "name": "Questions.ipynb",
   "provenance": []
  },
  "kernelspec": {
   "display_name": "Python 3",
   "language": "python",
   "name": "python3"
  },
  "language_info": {
   "codemirror_mode": {
    "name": "ipython",
    "version": 3
   },
   "file_extension": ".py",
   "mimetype": "text/x-python",
   "name": "python",
   "nbconvert_exporter": "python",
   "pygments_lexer": "ipython3",
   "version": "3.7.3"
  },
  "toc": {
   "base_numbering": 1,
   "nav_menu": {},
   "number_sections": true,
   "sideBar": true,
   "skip_h1_title": false,
   "title_cell": "Table of Contents",
   "title_sidebar": "Contents",
   "toc_cell": false,
   "toc_position": {},
   "toc_section_display": true,
   "toc_window_display": false
  }
 },
 "nbformat": 4,
 "nbformat_minor": 1
}
