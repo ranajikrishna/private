{
 "cells": [
  {
   "cell_type": "markdown",
   "metadata": {
    "colab_type": "text",
    "id": "x_BkOtqBIKQz"
   },
   "source": [
    "# Data Science Challenge"
   ]
  },
  {
   "cell_type": "code",
   "execution_count": null,
   "metadata": {
    "colab": {},
    "colab_type": "code",
    "id": "U_VthdACIKQ6"
   },
   "outputs": [],
   "source": [
    "# If you would like to install packages that are not installed by default, uncomment the last two lines of this cell and replace <package list> with a list of your packages.\n",
    "# This will ensure your notebook has all the dependencies and works everywhere\n",
    "\n",
    "#import sys\n",
    "#!{sys.executable} -m pip install <package list>"
   ]
  },
  {
   "cell_type": "code",
   "execution_count": 1,
   "metadata": {
    "colab": {},
    "colab_type": "code",
    "id": "VzGFUCCVIKRL"
   },
   "outputs": [],
   "source": [
    "#Libraries\n",
    "import pandas as pd\n",
    "pd.set_option(\"display.max_columns\", 101)"
   ]
  },
  {
   "cell_type": "markdown",
   "metadata": {
    "colab_type": "text",
    "id": "TZ23KNY8IKRT"
   },
   "source": [
    "## Data Description"
   ]
  },
  {
   "cell_type": "markdown",
   "metadata": {
    "colab_type": "text",
    "id": "jWSkqquEIKRW"
   },
   "source": [
    "Column | Description\n",
    ":---|:---\n",
    "`id` | The unique ID assigned to every restaurant.\n",
    "`name` | The name of the restaurant.\n",
    "`location` | The location of the restaurant.\n",
    "`phone` | The phone number of the restaurant.\n",
    "`table_bookings` | Indicates if the restaurant takes online reservations.\n",
    "`online_ordering` | Indicates if the restaurant takes online orders.\n",
    "`restaurant_type` | The type of restaurant. Values are Casual Dining, Cafe, Quick Bites, etc.\n",
    "`restaurant_operation` | The primary operation of the restaurant. For example, ‘Delivery’.\n",
    "`primary_cuisine` | The name of the primary cuisine offered by the restaurant. Values are American, Mexican, etc.\n",
    "`popular_dishes` | The number of popular dishes offered by the restaurant.\n",
    "`cuisines_offered` | The number of cuisines offered by the restaurant.\n",
    "`rating` | The rating of the restaurant.\n",
    "`votes` | The number of customer votes received by the restaurant\n",
    "`dining_cost` | It indicates if the classification of dining costs at the restaurant. Values are 0 (Budget), 1 (Expensive)."
   ]
  },
  {
   "cell_type": "markdown",
   "metadata": {
    "colab_type": "text",
    "id": "BWQqx7cSIKRX"
   },
   "source": [
    "## Data Wrangling & Visualization"
   ]
  },
  {
   "cell_type": "code",
   "execution_count": 4,
   "metadata": {
    "colab": {},
    "colab_type": "code",
    "id": "SsjL7tf7IKRc"
   },
   "outputs": [],
   "source": [
    "# Dataset is already loaded below\n",
    "data = pd.read_csv(\"train.csv\")"
   ]
  },
  {
   "cell_type": "code",
   "execution_count": 5,
   "metadata": {
    "colab": {},
    "colab_type": "code",
    "id": "kzuHtZEkIKRh",
    "outputId": "9d14832c-2eda-48eb-df41-548113a94a73"
   },
   "outputs": [
    {
     "data": {
      "text/html": [
       "<div>\n",
       "<style scoped>\n",
       "    .dataframe tbody tr th:only-of-type {\n",
       "        vertical-align: middle;\n",
       "    }\n",
       "\n",
       "    .dataframe tbody tr th {\n",
       "        vertical-align: top;\n",
       "    }\n",
       "\n",
       "    .dataframe thead th {\n",
       "        text-align: right;\n",
       "    }\n",
       "</style>\n",
       "<table border=\"1\" class=\"dataframe\">\n",
       "  <thead>\n",
       "    <tr style=\"text-align: right;\">\n",
       "      <th></th>\n",
       "      <th>id</th>\n",
       "      <th>name</th>\n",
       "      <th>table_bookings</th>\n",
       "      <th>online_ordering</th>\n",
       "      <th>location</th>\n",
       "      <th>rating</th>\n",
       "      <th>votes</th>\n",
       "      <th>phone</th>\n",
       "      <th>restaurant_type</th>\n",
       "      <th>restaurant_operation</th>\n",
       "      <th>popular_dishes</th>\n",
       "      <th>cuisines_offered</th>\n",
       "      <th>primary_cuisine</th>\n",
       "      <th>dining_cost</th>\n",
       "    </tr>\n",
       "  </thead>\n",
       "  <tbody>\n",
       "    <tr>\n",
       "      <th>0</th>\n",
       "      <td>19340</td>\n",
       "      <td>Plan B</td>\n",
       "      <td>No</td>\n",
       "      <td>No</td>\n",
       "      <td>Greenwich</td>\n",
       "      <td>4.2/5</td>\n",
       "      <td>1651.0</td>\n",
       "      <td>8041609100</td>\n",
       "      <td>Casual Dining, Pub</td>\n",
       "      <td>Pubs and bars</td>\n",
       "      <td>7.0</td>\n",
       "      <td>4.0</td>\n",
       "      <td>American</td>\n",
       "      <td>1.0</td>\n",
       "    </tr>\n",
       "    <tr>\n",
       "      <th>1</th>\n",
       "      <td>31103</td>\n",
       "      <td>Hunan</td>\n",
       "      <td>No</td>\n",
       "      <td>Yes</td>\n",
       "      <td>Tribeca</td>\n",
       "      <td>4.3 /5</td>\n",
       "      <td>2248.0</td>\n",
       "      <td>080 25520154</td>\n",
       "      <td>Casual Dining</td>\n",
       "      <td>Dine-out</td>\n",
       "      <td>7.0</td>\n",
       "      <td>3.0</td>\n",
       "      <td>Chinese</td>\n",
       "      <td>1.0</td>\n",
       "    </tr>\n",
       "    <tr>\n",
       "      <th>2</th>\n",
       "      <td>17563</td>\n",
       "      <td>Lavonne</td>\n",
       "      <td>No</td>\n",
       "      <td>No</td>\n",
       "      <td>Greenwich</td>\n",
       "      <td>4.4/5</td>\n",
       "      <td>1095.0</td>\n",
       "      <td>9740954505</td>\n",
       "      <td>Cafe, Dessert Parlor</td>\n",
       "      <td>Cafes</td>\n",
       "      <td>7.0</td>\n",
       "      <td>2.0</td>\n",
       "      <td>Snacks</td>\n",
       "      <td>1.0</td>\n",
       "    </tr>\n",
       "    <tr>\n",
       "      <th>3</th>\n",
       "      <td>11192</td>\n",
       "      <td>Ambur Star Dum Burger</td>\n",
       "      <td>Yes</td>\n",
       "      <td>No</td>\n",
       "      <td>Chelsea</td>\n",
       "      <td>3.4/5</td>\n",
       "      <td>17.0</td>\n",
       "      <td>7200110202\\r,  9840017416</td>\n",
       "      <td>Quick Bites</td>\n",
       "      <td>Dine-out</td>\n",
       "      <td>1.0</td>\n",
       "      <td>1.0</td>\n",
       "      <td>Italian</td>\n",
       "      <td>0.0</td>\n",
       "    </tr>\n",
       "    <tr>\n",
       "      <th>4</th>\n",
       "      <td>21324</td>\n",
       "      <td>Dadi's Dum Burger</td>\n",
       "      <td>Yes</td>\n",
       "      <td>Yes</td>\n",
       "      <td>Lower Manhattan</td>\n",
       "      <td>4.1 /5</td>\n",
       "      <td>2727.0</td>\n",
       "      <td>7090999991,  7090599999</td>\n",
       "      <td>Casual Dining</td>\n",
       "      <td>Dine-out</td>\n",
       "      <td>7.0</td>\n",
       "      <td>3.0</td>\n",
       "      <td>Italian</td>\n",
       "      <td>1.0</td>\n",
       "    </tr>\n",
       "  </tbody>\n",
       "</table>\n",
       "</div>"
      ],
      "text/plain": [
       "      id                   name table_bookings online_ordering  \\\n",
       "0  19340                 Plan B             No              No   \n",
       "1  31103                  Hunan             No             Yes   \n",
       "2  17563                Lavonne             No              No   \n",
       "3  11192  Ambur Star Dum Burger            Yes              No   \n",
       "4  21324      Dadi's Dum Burger            Yes             Yes   \n",
       "\n",
       "          location  rating   votes                       phone  \\\n",
       "0        Greenwich   4.2/5  1651.0                  8041609100   \n",
       "1          Tribeca  4.3 /5  2248.0                080 25520154   \n",
       "2        Greenwich   4.4/5  1095.0                  9740954505   \n",
       "3          Chelsea   3.4/5    17.0   7200110202\\r,  9840017416   \n",
       "4  Lower Manhattan  4.1 /5  2727.0     7090999991,  7090599999   \n",
       "\n",
       "        restaurant_type restaurant_operation  popular_dishes  \\\n",
       "0    Casual Dining, Pub        Pubs and bars             7.0   \n",
       "1         Casual Dining             Dine-out             7.0   \n",
       "2  Cafe, Dessert Parlor                Cafes             7.0   \n",
       "3           Quick Bites             Dine-out             1.0   \n",
       "4         Casual Dining             Dine-out             7.0   \n",
       "\n",
       "   cuisines_offered primary_cuisine  dining_cost  \n",
       "0               4.0        American          1.0  \n",
       "1               3.0         Chinese          1.0  \n",
       "2               2.0          Snacks          1.0  \n",
       "3               1.0         Italian          0.0  \n",
       "4               3.0         Italian          1.0  "
      ]
     },
     "execution_count": 5,
     "metadata": {},
     "output_type": "execute_result"
    }
   ],
   "source": [
    "data.head()"
   ]
  },
  {
   "cell_type": "code",
   "execution_count": 6,
   "metadata": {
    "colab": {},
    "colab_type": "code",
    "id": "0mhMZRlBIKRu",
    "outputId": "0a669059-5528-4ec0-d64b-8231f6aadf45"
   },
   "outputs": [
    {
     "data": {
      "text/plain": [
       "Index(['id', 'name', 'table_bookings', 'online_ordering', 'location', 'rating',\n",
       "       'votes', 'phone', 'restaurant_type', 'restaurant_operation',\n",
       "       'popular_dishes', 'cuisines_offered', 'primary_cuisine', 'dining_cost'],\n",
       "      dtype='object')"
      ]
     },
     "execution_count": 6,
     "metadata": {},
     "output_type": "execute_result"
    }
   ],
   "source": [
    "#Explore columns\n",
    "data.columns"
   ]
  },
  {
   "cell_type": "code",
   "execution_count": 7,
   "metadata": {
    "colab": {},
    "colab_type": "code",
    "id": "-SrTmyfJIKR1",
    "outputId": "12b270ca-8c3f-402b-d6c1-286c17e63fdd"
   },
   "outputs": [
    {
     "data": {
      "text/html": [
       "<div>\n",
       "<style scoped>\n",
       "    .dataframe tbody tr th:only-of-type {\n",
       "        vertical-align: middle;\n",
       "    }\n",
       "\n",
       "    .dataframe tbody tr th {\n",
       "        vertical-align: top;\n",
       "    }\n",
       "\n",
       "    .dataframe thead th {\n",
       "        text-align: right;\n",
       "    }\n",
       "</style>\n",
       "<table border=\"1\" class=\"dataframe\">\n",
       "  <thead>\n",
       "    <tr style=\"text-align: right;\">\n",
       "      <th></th>\n",
       "      <th>id</th>\n",
       "      <th>votes</th>\n",
       "      <th>popular_dishes</th>\n",
       "      <th>cuisines_offered</th>\n",
       "      <th>dining_cost</th>\n",
       "    </tr>\n",
       "  </thead>\n",
       "  <tbody>\n",
       "    <tr>\n",
       "      <th>count</th>\n",
       "      <td>2435.000000</td>\n",
       "      <td>2391.000000</td>\n",
       "      <td>2316.000000</td>\n",
       "      <td>2413.00000</td>\n",
       "      <td>2435.000000</td>\n",
       "    </tr>\n",
       "    <tr>\n",
       "      <th>mean</th>\n",
       "      <td>24562.075975</td>\n",
       "      <td>486.398996</td>\n",
       "      <td>3.569948</td>\n",
       "      <td>2.58765</td>\n",
       "      <td>0.520329</td>\n",
       "    </tr>\n",
       "    <tr>\n",
       "      <th>std</th>\n",
       "      <td>14043.041772</td>\n",
       "      <td>1294.380994</td>\n",
       "      <td>2.816004</td>\n",
       "      <td>1.29975</td>\n",
       "      <td>0.499689</td>\n",
       "    </tr>\n",
       "    <tr>\n",
       "      <th>min</th>\n",
       "      <td>53.000000</td>\n",
       "      <td>0.000000</td>\n",
       "      <td>1.000000</td>\n",
       "      <td>1.00000</td>\n",
       "      <td>0.000000</td>\n",
       "    </tr>\n",
       "    <tr>\n",
       "      <th>25%</th>\n",
       "      <td>11191.000000</td>\n",
       "      <td>9.500000</td>\n",
       "      <td>1.000000</td>\n",
       "      <td>2.00000</td>\n",
       "      <td>0.000000</td>\n",
       "    </tr>\n",
       "    <tr>\n",
       "      <th>50%</th>\n",
       "      <td>22754.000000</td>\n",
       "      <td>66.000000</td>\n",
       "      <td>1.500000</td>\n",
       "      <td>2.00000</td>\n",
       "      <td>1.000000</td>\n",
       "    </tr>\n",
       "    <tr>\n",
       "      <th>75%</th>\n",
       "      <td>34879.000000</td>\n",
       "      <td>383.000000</td>\n",
       "      <td>7.000000</td>\n",
       "      <td>3.00000</td>\n",
       "      <td>1.000000</td>\n",
       "    </tr>\n",
       "    <tr>\n",
       "      <th>max</th>\n",
       "      <td>51708.000000</td>\n",
       "      <td>14723.000000</td>\n",
       "      <td>7.000000</td>\n",
       "      <td>8.00000</td>\n",
       "      <td>1.000000</td>\n",
       "    </tr>\n",
       "  </tbody>\n",
       "</table>\n",
       "</div>"
      ],
      "text/plain": [
       "                 id         votes  popular_dishes  cuisines_offered  \\\n",
       "count   2435.000000   2391.000000     2316.000000        2413.00000   \n",
       "mean   24562.075975    486.398996        3.569948           2.58765   \n",
       "std    14043.041772   1294.380994        2.816004           1.29975   \n",
       "min       53.000000      0.000000        1.000000           1.00000   \n",
       "25%    11191.000000      9.500000        1.000000           2.00000   \n",
       "50%    22754.000000     66.000000        1.500000           2.00000   \n",
       "75%    34879.000000    383.000000        7.000000           3.00000   \n",
       "max    51708.000000  14723.000000        7.000000           8.00000   \n",
       "\n",
       "       dining_cost  \n",
       "count  2435.000000  \n",
       "mean      0.520329  \n",
       "std       0.499689  \n",
       "min       0.000000  \n",
       "25%       0.000000  \n",
       "50%       1.000000  \n",
       "75%       1.000000  \n",
       "max       1.000000  "
      ]
     },
     "execution_count": 7,
     "metadata": {},
     "output_type": "execute_result"
    }
   ],
   "source": [
    "#Description\n",
    "data.describe()"
   ]
  },
  {
   "cell_type": "code",
   "execution_count": null,
   "metadata": {
    "colab": {},
    "colab_type": "code",
    "id": "Vel-7S7gIKR9"
   },
   "outputs": [],
   "source": []
  },
  {
   "cell_type": "code",
   "execution_count": null,
   "metadata": {
    "colab": {},
    "colab_type": "code",
    "id": "fp1nvdh-IKSE"
   },
   "outputs": [],
   "source": []
  },
  {
   "cell_type": "code",
   "execution_count": null,
   "metadata": {
    "colab": {},
    "colab_type": "code",
    "id": "px5KNTQ7IKSK"
   },
   "outputs": [],
   "source": []
  },
  {
   "cell_type": "code",
   "execution_count": null,
   "metadata": {
    "colab": {},
    "colab_type": "code",
    "id": "W9B6xKGpIKSQ"
   },
   "outputs": [],
   "source": []
  },
  {
   "cell_type": "markdown",
   "metadata": {
    "colab_type": "text",
    "id": "ymsdDaIPIKSX"
   },
   "source": [
    "## Visualization, Modeling, Machine Learning\n",
    "\n",
    "Build a model that can categorizes restaurants into 'Budget' and 'Expensive' and identify how different features influence the decision. Please explain the findings effectively for technical and non-technical audiences using comments and visualizations, if appropriate.\n",
    "- **Build an optimized model that effectively solves the business problem.**\n",
    "- **The model will be evaluated on the basis of Accuracy.**\n",
    "- **Read the test.csv file and prepare features for testing.**"
   ]
  },
  {
   "cell_type": "code",
   "execution_count": 8,
   "metadata": {
    "colab": {},
    "colab_type": "code",
    "id": "Hsxh3SMgIKSY",
    "outputId": "d98d0f00-f33f-407b-df59-a9915bb03fa1"
   },
   "outputs": [
    {
     "data": {
      "text/html": [
       "<div>\n",
       "<style scoped>\n",
       "    .dataframe tbody tr th:only-of-type {\n",
       "        vertical-align: middle;\n",
       "    }\n",
       "\n",
       "    .dataframe tbody tr th {\n",
       "        vertical-align: top;\n",
       "    }\n",
       "\n",
       "    .dataframe thead th {\n",
       "        text-align: right;\n",
       "    }\n",
       "</style>\n",
       "<table border=\"1\" class=\"dataframe\">\n",
       "  <thead>\n",
       "    <tr style=\"text-align: right;\">\n",
       "      <th></th>\n",
       "      <th>id</th>\n",
       "      <th>name</th>\n",
       "      <th>table_bookings</th>\n",
       "      <th>online_ordering</th>\n",
       "      <th>location</th>\n",
       "      <th>rating</th>\n",
       "      <th>votes</th>\n",
       "      <th>phone</th>\n",
       "      <th>restaurant_type</th>\n",
       "      <th>restaurant_operation</th>\n",
       "      <th>popular_dishes</th>\n",
       "      <th>cuisines_offered</th>\n",
       "      <th>primary_cuisine</th>\n",
       "    </tr>\n",
       "  </thead>\n",
       "  <tbody>\n",
       "    <tr>\n",
       "      <th>0</th>\n",
       "      <td>19281</td>\n",
       "      <td>Plan B</td>\n",
       "      <td>No</td>\n",
       "      <td>No</td>\n",
       "      <td>Greenwich</td>\n",
       "      <td>4.2/5</td>\n",
       "      <td>1651.0</td>\n",
       "      <td>8041609100</td>\n",
       "      <td>Casual Dining, Pub</td>\n",
       "      <td>Drinks &amp; nightlife</td>\n",
       "      <td>7.0</td>\n",
       "      <td>4.0</td>\n",
       "      <td>American</td>\n",
       "    </tr>\n",
       "    <tr>\n",
       "      <th>1</th>\n",
       "      <td>16095</td>\n",
       "      <td>Mom's Kitchen</td>\n",
       "      <td>No</td>\n",
       "      <td>No</td>\n",
       "      <td>East Village</td>\n",
       "      <td>NaN</td>\n",
       "      <td>0.0</td>\n",
       "      <td>9738732072,  9742716121</td>\n",
       "      <td>Delivery</td>\n",
       "      <td>Delivery</td>\n",
       "      <td>1.0</td>\n",
       "      <td>1.0</td>\n",
       "      <td>American</td>\n",
       "    </tr>\n",
       "    <tr>\n",
       "      <th>2</th>\n",
       "      <td>42040</td>\n",
       "      <td>Keys Cafe - Keys Hotel</td>\n",
       "      <td>No</td>\n",
       "      <td>No</td>\n",
       "      <td>Chinatown</td>\n",
       "      <td>2.8 /5</td>\n",
       "      <td>161.0</td>\n",
       "      <td>080 39451000\\n 8884038484</td>\n",
       "      <td>Casual Dining, Bar</td>\n",
       "      <td>Dine-out</td>\n",
       "      <td>7.0</td>\n",
       "      <td>3.0</td>\n",
       "      <td>Chinese</td>\n",
       "    </tr>\n",
       "    <tr>\n",
       "      <th>3</th>\n",
       "      <td>18753</td>\n",
       "      <td>Smally's Resto Cafe</td>\n",
       "      <td>Yes</td>\n",
       "      <td>No</td>\n",
       "      <td>Greenwich</td>\n",
       "      <td>4.0/5</td>\n",
       "      <td>401.0</td>\n",
       "      <td>080 48149349,  9632015858</td>\n",
       "      <td>Cafe</td>\n",
       "      <td>Dine-out</td>\n",
       "      <td>7.0</td>\n",
       "      <td>5.0</td>\n",
       "      <td>Snacks</td>\n",
       "    </tr>\n",
       "    <tr>\n",
       "      <th>4</th>\n",
       "      <td>21065</td>\n",
       "      <td>Fabcafe</td>\n",
       "      <td>No</td>\n",
       "      <td>Yes</td>\n",
       "      <td>Chelsea</td>\n",
       "      <td>3.8 /5</td>\n",
       "      <td>11.0</td>\n",
       "      <td>8050403072</td>\n",
       "      <td>Cafe</td>\n",
       "      <td>Dine-out</td>\n",
       "      <td>1.0</td>\n",
       "      <td>2.0</td>\n",
       "      <td>Snacks</td>\n",
       "    </tr>\n",
       "  </tbody>\n",
       "</table>\n",
       "</div>"
      ],
      "text/plain": [
       "      id                    name table_bookings online_ordering      location  \\\n",
       "0  19281                  Plan B             No              No     Greenwich   \n",
       "1  16095           Mom's Kitchen             No              No  East Village   \n",
       "2  42040  Keys Cafe - Keys Hotel             No              No     Chinatown   \n",
       "3  18753     Smally's Resto Cafe            Yes              No     Greenwich   \n",
       "4  21065                 Fabcafe             No             Yes       Chelsea   \n",
       "\n",
       "   rating   votes                      phone     restaurant_type  \\\n",
       "0   4.2/5  1651.0                 8041609100  Casual Dining, Pub   \n",
       "1     NaN     0.0    9738732072,  9742716121            Delivery   \n",
       "2  2.8 /5   161.0  080 39451000\\n 8884038484  Casual Dining, Bar   \n",
       "3   4.0/5   401.0  080 48149349,  9632015858                Cafe   \n",
       "4  3.8 /5    11.0                 8050403072                Cafe   \n",
       "\n",
       "  restaurant_operation  popular_dishes  cuisines_offered primary_cuisine  \n",
       "0   Drinks & nightlife             7.0               4.0        American  \n",
       "1             Delivery             1.0               1.0        American  \n",
       "2             Dine-out             7.0               3.0         Chinese  \n",
       "3             Dine-out             7.0               5.0          Snacks  \n",
       "4             Dine-out             1.0               2.0          Snacks  "
      ]
     },
     "execution_count": 8,
     "metadata": {},
     "output_type": "execute_result"
    }
   ],
   "source": [
    "#Loading Test data\n",
    "test_data=pd.read_csv('test.csv')\n",
    "test_data.head()"
   ]
  },
  {
   "cell_type": "code",
   "execution_count": null,
   "metadata": {
    "colab": {},
    "colab_type": "code",
    "id": "73vBzp7lIKSf"
   },
   "outputs": [],
   "source": []
  },
  {
   "cell_type": "code",
   "execution_count": null,
   "metadata": {
    "colab": {},
    "colab_type": "code",
    "id": "1XiIoLYLIKSj"
   },
   "outputs": [],
   "source": []
  },
  {
   "cell_type": "code",
   "execution_count": null,
   "metadata": {
    "colab": {},
    "colab_type": "code",
    "id": "7tBCHjd3IKSp"
   },
   "outputs": [],
   "source": []
  },
  {
   "cell_type": "code",
   "execution_count": null,
   "metadata": {
    "colab": {},
    "colab_type": "code",
    "id": "1Vk1EEy9IKSv"
   },
   "outputs": [],
   "source": []
  },
  {
   "cell_type": "code",
   "execution_count": null,
   "metadata": {
    "colab": {},
    "colab_type": "code",
    "id": "nkQU41WSIKSz"
   },
   "outputs": [],
   "source": []
  },
  {
   "cell_type": "markdown",
   "metadata": {
    "colab_type": "text",
    "id": "MK_rdXETIKS4"
   },
   "source": [
    "\n",
    "\n",
    "**The management wants to know the most important features for the model.**\n",
    "\n",
    "> #### Task:\n",
    "- **Visualize the top 20 features and their feature importance.**\n"
   ]
  },
  {
   "cell_type": "code",
   "execution_count": null,
   "metadata": {
    "colab": {},
    "colab_type": "code",
    "id": "HHFM3XPMIKS6"
   },
   "outputs": [],
   "source": []
  },
  {
   "cell_type": "code",
   "execution_count": null,
   "metadata": {
    "colab": {},
    "colab_type": "code",
    "id": "jabG4TJwIKS_"
   },
   "outputs": [],
   "source": []
  },
  {
   "cell_type": "markdown",
   "metadata": {
    "colab_type": "text",
    "id": "UFogmgYZIKTE"
   },
   "source": [
    "> #### Task:\n",
    "- **Submit the predictions on the test dataset using the optimized model** <br/>\n",
    "    For each record in the test set (`test.csv`), predict the value of the `dining_cost` variable. Submit a CSV file with a header row and one row per test entry. \n",
    "\n",
    "The file (`submissions.csv`) should have exactly 2 columns:\n",
    "   - **id**\n",
    "   - **dining_cost**"
   ]
  },
  {
   "cell_type": "code",
   "execution_count": null,
   "metadata": {
    "colab": {},
    "colab_type": "code",
    "id": "7xgNg25MIKTG"
   },
   "outputs": [],
   "source": []
  },
  {
   "cell_type": "code",
   "execution_count": null,
   "metadata": {
    "colab": {},
    "colab_type": "code",
    "id": "OaxN7BjwIKTL"
   },
   "outputs": [],
   "source": []
  },
  {
   "cell_type": "code",
   "execution_count": null,
   "metadata": {
    "colab": {},
    "colab_type": "code",
    "id": "nBRVPrYbIKTQ"
   },
   "outputs": [],
   "source": [
    "#Submission\n",
    "submission_df.to_csv('submissions.csv',index=False)"
   ]
  },
  {
   "cell_type": "markdown",
   "metadata": {
    "colab_type": "text",
    "id": "H_pB8zTcIKTW"
   },
   "source": [
    "---"
   ]
  }
 ],
 "metadata": {
  "colab": {
   "collapsed_sections": [],
   "name": "Questions.ipynb",
   "provenance": [],
   "version": "0.3.2"
  },
  "kernelspec": {
   "display_name": "Python 3",
   "language": "python",
   "name": "python3"
  },
  "language_info": {
   "codemirror_mode": {
    "name": "ipython",
    "version": 3
   },
   "file_extension": ".py",
   "mimetype": "text/x-python",
   "name": "python",
   "nbconvert_exporter": "python",
   "pygments_lexer": "ipython3",
   "version": "3.7.4"
  },
  "toc": {
   "base_numbering": 1,
   "nav_menu": {},
   "number_sections": true,
   "sideBar": true,
   "skip_h1_title": false,
   "title_cell": "Table of Contents",
   "title_sidebar": "Contents",
   "toc_cell": false,
   "toc_position": {},
   "toc_section_display": true,
   "toc_window_display": false
  }
 },
 "nbformat": 4,
 "nbformat_minor": 1
}
